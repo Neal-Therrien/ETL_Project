{
 "cells": [
  {
   "cell_type": "code",
   "execution_count": 1,
   "metadata": {},
   "outputs": [
    {
     "name": "stdout",
     "output_type": "stream",
     "text": [
      "Collecting kaggle\n",
      "\u001b[?25l  Downloading https://files.pythonhosted.org/packages/78/3a/64a6447e5faa313b70cb555e21b5a30718c95bcc4902d91784b57fbab737/kaggle-1.5.3.tar.gz (54kB)\n",
      "\u001b[K    100% |████████████████████████████████| 61kB 6.1MB/s ta 0:00:01\n",
      "\u001b[?25hRequirement already satisfied: urllib3<1.25,>=1.21.1 in /Users/keithellett/anaconda3/lib/python3.6/site-packages (from kaggle) (1.24.1)\n",
      "Requirement already satisfied: six>=1.10 in /Users/keithellett/anaconda3/lib/python3.6/site-packages (from kaggle) (1.12.0)\n",
      "Requirement already satisfied: certifi in /Users/keithellett/anaconda3/lib/python3.6/site-packages (from kaggle) (2018.11.29)\n",
      "Requirement already satisfied: python-dateutil in /Users/keithellett/anaconda3/lib/python3.6/site-packages (from kaggle) (2.7.5)\n",
      "Requirement already satisfied: requests in /Users/keithellett/anaconda3/lib/python3.6/site-packages (from kaggle) (2.21.0)\n",
      "Requirement already satisfied: tqdm in /Users/keithellett/anaconda3/lib/python3.6/site-packages (from kaggle) (4.29.1)\n",
      "Collecting python-slugify (from kaggle)\n",
      "  Downloading https://files.pythonhosted.org/packages/1f/9c/8b07d625e9c9df567986d887f0375075abb1923e49d074a7803cd1527dae/python-slugify-2.0.1.tar.gz\n",
      "Requirement already satisfied: idna<2.9,>=2.5 in /Users/keithellett/anaconda3/lib/python3.6/site-packages (from requests->kaggle) (2.8)\n",
      "Requirement already satisfied: chardet<3.1.0,>=3.0.2 in /Users/keithellett/anaconda3/lib/python3.6/site-packages (from requests->kaggle) (3.0.4)\n",
      "Collecting Unidecode>=0.04.16 (from python-slugify->kaggle)\n",
      "\u001b[?25l  Downloading https://files.pythonhosted.org/packages/31/39/53096f9217b057cb049fe872b7fc7ce799a1a89b76cf917d9639e7a558b5/Unidecode-1.0.23-py2.py3-none-any.whl (237kB)\n",
      "\u001b[K    100% |████████████████████████████████| 245kB 6.4MB/s ta 0:00:01\n",
      "\u001b[?25hBuilding wheels for collected packages: kaggle, python-slugify\n",
      "  Running setup.py bdist_wheel for kaggle ... \u001b[?25ldone\n",
      "\u001b[?25h  Stored in directory: /Users/keithellett/Library/Caches/pip/wheels/ee/97/c5/87dcdc9434fe4e632ed5945e31a03703af229db178ef6a00e8\n",
      "  Running setup.py bdist_wheel for python-slugify ... \u001b[?25ldone\n",
      "\u001b[?25h  Stored in directory: /Users/keithellett/Library/Caches/pip/wheels/2b/9e/c8/14a18ab55d8f144384de8186a3df8401dcc9264936f71d470f\n",
      "Successfully built kaggle python-slugify\n",
      "Installing collected packages: Unidecode, python-slugify, kaggle\n",
      "Successfully installed Unidecode-1.0.23 kaggle-1.5.3 python-slugify-2.0.1\n"
     ]
    }
   ],
   "source": [
    "!pip install kaggle"
   ]
  },
  {
   "cell_type": "code",
   "execution_count": 5,
   "metadata": {},
   "outputs": [],
   "source": [
    "!chmod 600 ~/.kaggle/kaggle.json"
   ]
  },
  {
   "cell_type": "code",
   "execution_count": 9,
   "metadata": {},
   "outputs": [
    {
     "name": "stdout",
     "output_type": "stream",
     "text": [
      "ref                                                          title                                                size  lastUpdated          downloadCount  \r\n",
      "-----------------------------------------------------------  --------------------------------------------------  -----  -------------------  -------------  \r\n",
      "ronitf/heart-disease-uci                                     Heart Disease UCI                                     3KB  2018-06-25 11:33:56           8438  \r\n",
      "karangadiya/fifa19                                           FIFA 19 complete player dataset                       2MB  2018-12-21 03:52:59           9404  \r\n",
      "russellyates88/suicide-rates-overview-1985-to-2016           Suicide Rates Overview 1985 to 2016                 396KB  2018-12-01 19:18:25           6034  \r\n",
      "jessicali9530/stanford-dogs-dataset                          Stanford Dogs Dataset                               735MB  2019-02-13 05:45:25            476  \r\n",
      "mohansacharya/graduate-admissions                            Graduate Admissions                                   9KB  2018-12-28 10:07:14          10135  \r\n",
      "vjchoudhary7/customer-segmentation-tutorial-in-python        Mall Customer Segmentation Data                       2KB  2018-08-11 07:23:02           2715  \r\n",
      "bigquery/crypto-ethereum-classic                             Ethereum Classic Blockchain                          66GB  2019-02-05 17:41:48              0  \r\n",
      "iarunava/cell-images-for-detecting-malaria                   Malaria Cell Images Dataset                         337MB  2018-12-05 05:40:21           1708  \r\n",
      "lava18/google-play-store-apps                                Google Play Store Apps                                2MB  2019-02-03 13:55:47          37302  \r\n",
      "timoboz/stock-data-dow-jones                                 EOD data for all Dow Jones stocks                     2MB  2019-02-21 22:33:43           1476  \r\n",
      "noriuk/us-education-datasets-unification-project             U.S. Education Datasets: Unification Project         84MB  2018-12-22 17:09:05           1318  \r\n",
      "cityofLA/los-angeles-parking-citations                       Los Angeles Parking Citations                       245MB  2019-02-21 22:20:03           1792  \r\n",
      "mdhrumil/top-5000-youtube-channels-data-from-socialblade     Top 5000 Youtube channels data from Socialblade.    128KB  2018-09-09 14:05:54           3148  \r\n",
      "safegraph/census-block-group-american-community-survey-data  Census Block Group American Community Survey Data     2GB  2018-12-22 00:29:56            323  \r\n",
      "safegraph/visit-patterns-by-census-block-group               Consumer & Visitor Insights For Neighborhoods        66MB  2018-12-19 21:31:50            513  \r\n",
      "jutrera/stanford-car-dataset-by-classes-folder               Stanford Car Dataset by classes folder                2GB  2018-07-02 07:35:45           1736  \r\n",
      "jessicali9530/celeba-dataset                                 CelebFaces Attributes (CelebA) Dataset                1GB  2018-06-01 20:08:48           4260  \r\n",
      "anokas/kuzushiji                                             Kuzushiji-MNIST                                     318MB  2018-12-17 01:19:31            413  \r\n",
      "pavansanagapati/urban-sound-classification                   Urban Sound Classification                            6GB  2018-06-16 13:44:36           1433  \r\n",
      "rmisra/news-headlines-dataset-for-sarcasm-detection          News Headlines Dataset For Sarcasm Detection          2MB  2018-06-09 22:14:56           1244  \r\n"
     ]
    }
   ],
   "source": [
    "!kaggle datasets list"
   ]
  },
  {
   "cell_type": "code",
   "execution_count": null,
   "metadata": {},
   "outputs": [],
   "source": []
  }
 ],
 "metadata": {
  "kernelspec": {
   "display_name": "Python 3",
   "language": "python",
   "name": "python3"
  },
  "language_info": {
   "codemirror_mode": {
    "name": "ipython",
    "version": 3
   },
   "file_extension": ".py",
   "mimetype": "text/x-python",
   "name": "python",
   "nbconvert_exporter": "python",
   "pygments_lexer": "ipython3",
   "version": "3.6.8"
  }
 },
 "nbformat": 4,
 "nbformat_minor": 2
}
